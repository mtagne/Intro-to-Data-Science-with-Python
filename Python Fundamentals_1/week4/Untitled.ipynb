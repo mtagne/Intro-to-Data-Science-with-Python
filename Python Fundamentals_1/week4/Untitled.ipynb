{
 "cells": [
  {
   "cell_type": "code",
   "execution_count": 48,
   "metadata": {
    "collapsed": true
   },
   "outputs": [],
   "source": [
    "%matplotlib inline\n",
    "import matplotlib as myplot\n",
    "import pandas as pd"
   ]
  },
  {
   "cell_type": "code",
   "execution_count": 45,
   "metadata": {
    "collapsed": false
   },
   "outputs": [],
   "source": [
    "#, names=['TimeofB', 'sexofchild', 'Birthweight', 'minafter']\n",
    "cdf = pd.read_table(\"babyboom.dat\", sep = '\\t', skiprows=58, header=None)\n",
    "cdf.to_csv('out.dat', index=False, header=False, quotechar=' ')\n",
    "\n",
    "inf = open('out.dat', 'r')\n",
    "outf = open('out.csv', 'w')\n",
    "\n",
    "for line in inf:\n",
    "    print(','.join(line.split()), file=outf, end='\\n')\n",
    "    \n",
    "\n",
    "cdf = pd.read_table(\"out.csv\",sep=',', names=['TimeofB', 'sexofchild', 'Birthweight', 'minafter'])\n",
    "    "
   ]
  },
  {
   "cell_type": "code",
   "execution_count": 49,
   "metadata": {
    "collapsed": false
   },
   "outputs": [
    {
     "name": "stdout",
     "output_type": "stream",
     "text": [
      "Object `myplot.Cdf` not found.\n"
     ]
    }
   ],
   "source": [
    "myplot.Cdf"
   ]
  },
  {
   "cell_type": "code",
   "execution_count": null,
   "metadata": {
    "collapsed": true
   },
   "outputs": [],
   "source": []
  },
  {
   "cell_type": "code",
   "execution_count": null,
   "metadata": {
    "collapsed": true
   },
   "outputs": [],
   "source": []
  }
 ],
 "metadata": {
  "anaconda-cloud": {},
  "kernelspec": {
   "display_name": "Python [default]",
   "language": "python",
   "name": "python3"
  },
  "language_info": {
   "codemirror_mode": {
    "name": "ipython",
    "version": 3
   },
   "file_extension": ".py",
   "mimetype": "text/x-python",
   "name": "python",
   "nbconvert_exporter": "python",
   "pygments_lexer": "ipython3",
   "version": "3.5.2"
  }
 },
 "nbformat": 4,
 "nbformat_minor": 1
}
